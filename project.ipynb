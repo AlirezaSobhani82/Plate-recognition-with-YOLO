{
 "cells": [
  {
   "cell_type": "code",
   "id": "initial_id",
   "metadata": {
    "collapsed": true
   },
   "source": [
    "import os\n",
    "import cv2\n",
    "from ultralytics import YOLO\n",
    "import easyocr"
   ],
   "outputs": [],
   "execution_count": null
  },
  {
   "metadata": {},
   "cell_type": "code",
   "source": [
    "video_path = \"E:\\\\My projects\\\\plaue detection(YOLOv8)\\\\plaue.mp4\"\n",
    "out_plaue = \"frame\"\n",
    "os.makedirs(out_plaue,exist_ok=True)"
   ],
   "id": "744ca1074093418c",
   "outputs": [],
   "execution_count": null
  },
  {
   "metadata": {},
   "cell_type": "code",
   "source": [
    "cap = cv2.VideoCapture(video_path)\n",
    "frame_id = 0\n",
    "while cap.isOpened():\n",
    "    ret,frame = cap.read()\n",
    "    if not ret:\n",
    "        break\n",
    "    cv2.imwrite(f\"{out_plaue}/frame_{frame_id:04d}.jpg\",frame)\n",
    "    frame_id += 1\n",
    "cap.release()"
   ],
   "id": "31a626c5c1c1511a",
   "outputs": [],
   "execution_count": null
  },
  {
   "metadata": {},
   "cell_type": "code",
   "source": [
    "model = YOLO(\"yolov8n.pt\")\n",
    "model.train(data=\"E:\\\\My projects\\\\plaue detection(YOLOv8)\\\\data.yaml\",epochs=100,imgsz=640,save=True,verbose=False)"
   ],
   "id": "31d682b0d46566ce",
   "outputs": [],
   "execution_count": null
  },
  {
   "metadata": {},
   "cell_type": "code",
   "source": "model.predict(data=\"E:\\\\My projects\\\\plaue detection(YOLOv8)\\\\runs\\detect\\\\train\\\\weights\\\\best.pt\",source=\"E:\\\\My projects\\\\plaue detection(YOLOv8)\\\\plaue.mp4\",save=True)",
   "id": "83ebbda839f5e240",
   "outputs": [],
   "execution_count": null
  },
  {
   "metadata": {},
   "cell_type": "code",
   "source": [
    "# بارگذاری مدل YOLOv8 آموزش‌دیده برای پلاک\n",
    "model = YOLO(\"E:\\\\My projects\\\\plaue detection(YOLOv8)\\\\runs\\\\detect\\\\train\\\\weights\\\\best.pt\")\n",
    "\n",
    "# OCR reader\n",
    "ocr = easyocr.Reader([\"en\"])\n",
    "\n",
    "# بارگذاری ویدیو ورودی\n",
    "video_path = \"E:\\\\My projects\\\\plaue detection(YOLOv8)\\\\plaue.mp4\"\n",
    "cap = cv2.VideoCapture(video_path)\n",
    "\n",
    "# تنظیمات ویدیو خروجی\n",
    "fourcc = cv2.VideoWriter_fourcc(*'mp4v')\n",
    "fps = cap.get(cv2.CAP_PROP_FPS)\n",
    "width  = int(cap.get(cv2.CAP_PROP_FRAME_WIDTH))\n",
    "height = int(cap.get(cv2.CAP_PROP_FRAME_HEIGHT))\n",
    "out = cv2.VideoWriter(\"output_with_plates.mp4\", fourcc, fps, (width, height))\n",
    "\n",
    "frame_count = 0\n",
    "while cap.isOpened():\n",
    "    ret, frame = cap.read()\n",
    "    if not ret:\n",
    "        break\n",
    "\n",
    "    frame_count += 1\n",
    "    results = model(frame)\n",
    "\n",
    "    for r in results:\n",
    "        for box in r.boxes:\n",
    "            x1, y1, x2, y2 = map(int, box.xyxy[0])\n",
    "            cropped = frame[y1:y2, x1:x2]\n",
    "\n",
    "            # OCR روی ناحیه پلاک\n",
    "            text = ocr.readtext(cropped)\n",
    "            for t in text:\n",
    "                plate_text = t[1]\n",
    "                conf = t[2]\n",
    "                if conf > 0.3:  # فقط خروجی‌های قابل اعتماد\n",
    "                    cv2.putText(frame, plate_text, (x1, y1 - 10), cv2.FONT_HERSHEY_SIMPLEX, 0.9, (0,255,0), 2)\n",
    "                    cv2.rectangle(frame, (x1, y1), (x2, y2), (0,255,0), 2)\n",
    "\n",
    "    out.write(frame)\n",
    "    print(f\"✅ Frame {frame_count} processed.\")\n",
    "\n",
    "cap.release()\n",
    "out.release()\n",
    "print(\"🎬 The output video was saved: output_with_plates.mp4\")"
   ],
   "id": "b7f5b3e1d3ad46e",
   "outputs": [],
   "execution_count": null
  },
  {
   "metadata": {},
   "cell_type": "code",
   "source": "",
   "id": "8a1ef268b5cd7579",
   "outputs": [],
   "execution_count": null
  }
 ],
 "metadata": {
  "kernelspec": {
   "display_name": "Python 3",
   "language": "python",
   "name": "python3"
  },
  "language_info": {
   "codemirror_mode": {
    "name": "ipython",
    "version": 2
   },
   "file_extension": ".py",
   "mimetype": "text/x-python",
   "name": "python",
   "nbconvert_exporter": "python",
   "pygments_lexer": "ipython2",
   "version": "2.7.6"
  }
 },
 "nbformat": 4,
 "nbformat_minor": 5
}
